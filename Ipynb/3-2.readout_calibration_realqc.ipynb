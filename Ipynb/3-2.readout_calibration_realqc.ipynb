{
 "cells": [
  {
   "cell_type": "code",
   "execution_count": 1,
   "metadata": {},
   "outputs": [],
   "source": [
    "import os\n",
    "os.chdir('..')\n",
    "\n",
    "from simulator.noisy_simulator import NoisySimulator\n",
    "from data_objects.backend import LinearBackend\n",
    "from simulator.readout_error_model import ReadoutErrorModel\n",
    "from optimizations.readout_mitigation.fem import Mitigator\n",
    "from optimizations.readout_mitigation.fem import IterativeSamplingProtocol, EnumeratedProtocol\n",
    "from data_objects.algorithms import get_algs, ibu_response_matrix\n",
    "from qiskit.quantum_info.analysis import hellinger_fidelity\n",
    "from optimizations.readout_mitigation.fem.tools import npformat_to_statuscnt,statuscnt_to_npformat\n",
    "from time import time\n",
    "import pickle\n",
    "import matplotlib.pyplot as plt\n",
    "import logging\n",
    "logging.getLogger('qiskit').setLevel(logging.ERROR)"
   ]
  },
  {
   "cell_type": "markdown",
   "metadata": {},
   "source": [
    "# Readout Calibration Of JanusQ-FEM on Real-world Quantum Device \n",
    "**Author:** Hanyu Zhang \\& Siwei Tan\n",
    "\n",
    "**Date:** 9/4/2024\n",
    "\n",
    "Based on paper \"[QuFEM: Fast and Accurate Quantum Readout Calibration Using the Finite Element Method][1]\"\n",
    "\n",
    "[1]: https://scholar.google.com/scholar_url?url=https://dl.acm.org/doi/abs/10.1145/3613424.3614274%3Fcasa_token%3DffjIB1hQ4ZwAAAAA:8MajDLrDOC74WoeMf7r7AoQ-koxCa4E1TNqQg3GSDz03xUX6XdE3toNTM-YdM_e4rKEusMceJ6BGJg&hl=zh-CN&sa=T&oi=gsb&ct=res&cd=0&d=11146218754516883150&ei=42YSZpPlFL6s6rQPtt6x6Ac&scisig=AFWwaeYaiu2hyx8HUJ_7Buf9Mwom\n",
    "\n",
    "We run a GHZ circuit on the QuaFu [] quantum computer and load its data. Then, we compare its fidelity with the ideal results without noise.\n",
    "\n",
    "TODO: 加上引用\n",
    "TODO: 热力图"
   ]
  },
  {
   "cell_type": "markdown",
   "metadata": {},
   "source": [
    "We fist load the dataset for the notebook."
   ]
  },
  {
   "cell_type": "code",
   "execution_count": null,
   "metadata": {},
   "outputs": [],
   "source": [
    "# TODO: 用相对路径\n",
    "\n",
    "benchmark_circuits_and_results = pickle.load(file=open('/home/zhanghanyu/JanusQ/dataset/protocol_16.pickle','rb'))\n",
    "\n",
    "ghz_output = pickle.load(file=open('/home/zhanghanyu/JanusQ/dataset/ghz_error','rb'))\n",
    "# TODO: 生成一个数组包含了5比特到131比特的GHZ输出 （还包含读取的比特）\n",
    "\n",
    "ibu_matrices = pickle.load(file=open('/home/zhanghanyu/JanusQ/dataset/matrices_16.pickle','rb'))\n"
   ]
  },
  {
   "cell_type": "markdown",
   "metadata": {},
   "source": [
    "## JanusQ-CT"
   ]
  },
  {
   "cell_type": "code",
   "execution_count": null,
   "metadata": {},
   "outputs": [],
   "source": [
    "# TODO: construct mitigator\n",
    "\n",
    "# TODO: 构建一个131比特的mitigator\n",
    "# 用这个校准不同比特数的GHZ结果\n",
    "\n",
    "# t_qufem_new = []\n",
    "# qufem_fid = []\n",
    "\n",
    "# miti = []\n",
    "# for i in range(len(ghz_output)):\n",
    "#     n_qubits = 6+i*2\n",
    "#     benchmark_circuits = downsample(benchmark,[i for i in range(n_qubits)])\n",
    "\n",
    "#     outout_ideal = {'1'*n_qubits:samples*0.5,'0'*n_qubits:samples*0.5}\n",
    "\n",
    "#     bstrs = []\n",
    "#     for key in benchmark_circuits.keys():\n",
    "#         bstrs.append(np.array(list(key), dtype=np.int8))\n",
    "\n",
    "#     protocol_statuscnts = []\n",
    "#     for value in benchmark_circuits.values():\n",
    "#         protocol_statuscnts.append(value)\n",
    "\n",
    "    \n",
    "#     t_qufem_1_new = time()\n",
    "#     output_fem = mitigator[i].mitigate(ghz_output[i])\n",
    "#     t_qufem_2_new = time()\n",
    "#     output_fem = npformat_to_statuscnt(output_fem)\n",
    "\n",
    "#     t_qufem_new.append(t_qufem_2_new-t_qufem_1_new)\n",
    "#     qufem_fid.append(hellinger_fidelity(outout_ideal,output_fem))\n"
   ]
  },
  {
   "cell_type": "code",
   "execution_count": null,
   "metadata": {},
   "outputs": [],
   "source": [
    "# Calibrate GHZ"
   ]
  },
  {
   "cell_type": "markdown",
   "metadata": {},
   "source": [
    "## Comparision to IBU"
   ]
  },
  {
   "cell_type": "markdown",
   "metadata": {},
   "source": [
    "We have collected 5-qubit to 131-qubit GHZ circuit output on a 136-qubit quantum device. We compare the calibration accuracy and overhead of JanusQ-CT to IBU [].\n",
    "\n",
    "TODO: 加上引用"
   ]
  },
  {
   "cell_type": "code",
   "execution_count": null,
   "metadata": {},
   "outputs": [],
   "source": [
    "# TODO: 生成一个数组包含了5比特到131比特的GHZ输出 （还包含读取的比特）\n",
    "\n",
    "# collect the GHZ outputs\n",
    "# samples = 10000\n",
    "# un_fid = []\n",
    "# for i in range(len(ghz_output)):\n",
    "#     n_qubits = 6+i*2\n",
    "#     ghz_noisy = ghz_output[i]\n",
    "#     outout_ideal = {'1'*n_qubits:samples*0.5,'0'*n_qubits:samples*0.5}\n",
    "#     un_fid.append(hellinger_fidelity(ghz_noisy,outout_ideal))"
   ]
  },
  {
   "cell_type": "code",
   "execution_count": null,
   "metadata": {},
   "outputs": [],
   "source": [
    "# construct the IBU mitigator and apply calibration\n",
    "from baselines.readout_calibration.IBU.src.IBU import IBU\n",
    "from baselines.readout_calibration.IBU.utils.qc_utils import *\n",
    "from baselines.readout_calibration.IBU.utils.data_utils import *\n",
    "\n",
    "t_ibu_new = []\n",
    "ibu_fid = []\n",
    "for i in range(len(ghz_output)):\n",
    "    n_qubits = 6+i*2\n",
    "    params = {\n",
    "        \"exp_name\": \"ghz\",\n",
    "        \"method\": \"reduced\",  \n",
    "        \"library\": \"jax\",  \n",
    "        \"num_qubits\": n_qubits,\n",
    "        \"max_iters\": 1000,\n",
    "        \"tol\": 1e-5,\n",
    "        \"use_log\": False,  \n",
    "        \"verbose\": True,\n",
    "        \"init\": \"unif\",  \n",
    "        \"smoothing\": 1e-8,\n",
    "        \"ham_dist\": 3\n",
    "    }\n",
    "\n",
    "    matrices_ibu = ibu_matrices[:n_qubits]\n",
    "    outout_ideal = {'1'*n_qubits:samples*0.5,'0'*n_qubits:samples*0.5}\n",
    "\n",
    "\n",
    "    ibu_new = IBU(matrices_ibu, params)\n",
    "    ghz_noisy = ghz_output[i]\n",
    "    ibu_new.set_obs(dict(ghz_noisy))\n",
    "    t_ibu_new_1 = time()\n",
    "    ibu_new.initialize_guess()\n",
    "    t_sol_new, max_iters_new, tracker_new = ibu_new.train(params[\"max_iters\"], tol=params[\"tol\"], soln=outout_ideal)\n",
    "    t_ibu_new_2 = time()\n",
    "    outout_ibu_new = ibu_new.guess_as_dict()\n",
    "\n",
    "    t_ibu_new.append(t_ibu_new_2-t_ibu_new_1)\n",
    "    ibu_fid.append(hellinger_fidelity(outout_ideal,outout_ibu_new).item())"
   ]
  },
  {
   "cell_type": "code",
   "execution_count": null,
   "metadata": {},
   "outputs": [],
   "source": [
    "# compare the fidelity improvement\n",
    "\n",
    "x = [6+i*2 for i in range(len(ghz_output))]\n",
    "\n",
    "plt.plot(x, un_fid, label='RAW', marker='^', linestyle='-')\n",
    "plt.plot(x, ibu_fid, label='IBU', marker='^', linestyle='-')\n",
    "plt.plot(x, qufem_fid, label='QuFEM', marker='^', linestyle='-')\n",
    "plt.xticks(x) \n",
    "plt.title('Fidelity Comparison')\n",
    "plt.xlabel('#qubits')\n",
    "plt.ylabel('fidelity')\n",
    "\n",
    "plt.legend()\n",
    "\n",
    "plt.show()\n"
   ]
  },
  {
   "cell_type": "code",
   "execution_count": null,
   "metadata": {},
   "outputs": [],
   "source": [
    "# compare the time cost\n",
    "\n",
    "x = [6+i*2 for i in range(len(ghz_output))]\n",
    "\n",
    "plt.plot(x, t_ibu_new, label='IBU', marker='^', linestyle='-')\n",
    "plt.plot(x, t_qufem_new, label='QuFEM', marker='^', linestyle='-')\n",
    "plt.xticks(x) \n",
    "plt.title('Time Comparison')\n",
    "plt.xlabel('#qubits')\n",
    "plt.ylabel('time')\n",
    "\n",
    "plt.legend()\n",
    "\n",
    "plt.show()"
   ]
  }
 ],
 "metadata": {
  "kernelspec": {
   "display_name": "janusq",
   "language": "python",
   "name": "python3"
  },
  "language_info": {
   "codemirror_mode": {
    "name": "ipython",
    "version": 3
   },
   "file_extension": ".py",
   "mimetype": "text/x-python",
   "name": "python",
   "nbconvert_exporter": "python",
   "pygments_lexer": "ipython3",
   "version": "3.11.7"
  }
 },
 "nbformat": 4,
 "nbformat_minor": 2
}
