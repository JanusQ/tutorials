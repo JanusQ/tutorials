{
 "cells": [
  {
   "cell_type": "code",
   "execution_count": 1,
   "metadata": {},
   "outputs": [],
   "source": [
    "# import sys, os\n",
    "# from pathlib import Path\n",
    "# sys.path.append(str(Path(os.getcwd()))+'/..')\n",
    "\n",
    "import os\n",
    "os.chdir('..')\n",
    "\n",
    "from analysis.fidelity_prediction import FidelityModel\n",
    "from baselines.fidelity_prediction.rb_prediction import RBModel\n",
    "from simulator.gate_error_model import GateErrorModel\n",
    "\n",
    "from analysis.vectorization import RandomwalkModel\n",
    "\n",
    "from data_objects.random_circuit import random_circuits, random_circuit\n",
    "from data_objects.backend import Backend, LinearBackend, GridBackend, FullyConnectedBackend\n",
    "\n",
    "from simulator.noisy_simulator import NoisySimulator\n",
    "import random\n",
    "\n",
    "from tools.ray_func import map"
   ]
  },
  {
   "cell_type": "markdown",
   "metadata": {},
   "source": [
    "# Noise Optimization Based on JanusQ-CT\n",
    "\n",
    "\n",
    "**Author:** Congliang Lang \\& Siwei Tan  \n",
    "\n",
    "**Date:** 7/4/2024\n",
    "\n",
    "Based on \"[QuCT: A Framework for Analyzing Quantum Circuit by Extracting Contextual and Topological Features (MICRO 2023][1]\"\n",
    "\n",
    "[1]: https://scholar.google.com/scholar_url?url=https://dl.acm.org/doi/abs/10.1145/3613424.3614274%3Fcasa_token%3DffjIB1hQ4ZwAAAAA:8MajDLrDOC74WoeMf7r7AoQ-koxCa4E1TNqQg3GSDz03xUX6XdE3toNTM-YdM_e4rKEusMceJ6BGJg&hl=zh-CN&sa=T&oi=gsb&ct=res&cd=0&d=11146218754516883150&ei=42YSZpPlFL6s6rQPtt6x6Ac&scisig=AFWwaeYaiu2hyx8HUJ_7Buf9Mwom\n",
    "\n",
    "The accurate fidelity prediction enables JanusQ-CT to guide the noise optimization. In this notebook, we introduce two optimization strategies."
   ]
  },
  {
   "cell_type": "markdown",
   "metadata": {},
   "source": [
    "## Mapping\n",
    "\n",
    "A typical compilation flow includes routing and scheduling. The routing pass transforms the circuit to satisfy the processor topology. Clearly, it inserts SWAP gates to change the qubit mapping, ensuring that all two-qubit gates can be implemented by the coupler of the processor. By precisely predicting the fidelity, QuCT can be integrated with existing compilers to find the routing solution with the best fidelity. \n",
    "\n",
    "For example, wecan use Janus-CT to guide the mapping of qiskit."
   ]
  },
  {
   "cell_type": "code",
   "execution_count": 2,
   "metadata": {},
   "outputs": [
    {
     "name": "stderr",
     "output_type": "stream",
     "text": [
      "100%|██████████| 501/501 [00:01<00:00, 406.93it/s]\n"
     ]
    }
   ],
   "source": [
    "# build a simulator\n",
    "\n",
    "n_qubits = 5\n",
    "n_steps = 1\n",
    "n_walks = 20\n",
    "backend = LinearBackend(n_qubits, 1)\n",
    "\n",
    "circuits = random_circuits(backend, n_circuits=500, n_gate_list=[30, 50, 100], two_qubit_prob_list=[.4], reverse=True)\n",
    "vec_model = RandomwalkModel(n_steps = n_steps, n_walks = n_walks, backend = backend)\n",
    "vec_model.train(circuits, multi_process=False, remove_redundancy = False)\n",
    "\n",
    "all_paths = vec_model.all_paths()\n",
    "high_error_paths = random.choices(all_paths, k = 20)\n",
    "\n",
    "error_model = GateErrorModel.random_model(backend=backend, high_error_paths=high_error_paths)\n",
    "error_model.vec_model = vec_model\n",
    "\n",
    "simulator = NoisySimulator(backend=backend, gate_error_model = error_model)"
   ]
  },
  {
   "cell_type": "code",
   "execution_count": 3,
   "metadata": {},
   "outputs": [
    {
     "name": "stderr",
     "output_type": "stream",
     "text": [
      "/Users/siwei/miniforge3/envs/janusq/lib/python3.11/subprocess.py:1883: RuntimeWarning: os.fork() was called. os.fork() is incompatible with multithreaded code, and JAX is multithreaded, so this will likely lead to a deadlock.\n",
      "  self.pid = _fork_exec(\n",
      "2024-04-08 13:33:18,329\tINFO worker.py:1724 -- Started a local Ray instance.\n",
      "400it [00:00, 165766.39it/s]\n",
      " 12%|█▎        | 1/8 [00:00<00:02,  2.45it/s]ap pid=33248)\u001b[0m /Users/siwei/workspace/JanusQ/janusq/analysis/fidelity_prediction.py:85: UserWarning: Explicitly requested dtype <class 'jax.numpy.float64'> requested in array is not available, and will be truncated to dtype float32. To enable more dtypes, set the jax_enable_x64 configuration option or the JAX_ENABLE_X64 shell environment variable. See https://github.com/google/jax#current-gotchas for more.\n",
      "\u001b[36m(_map pid=33248)\u001b[0m   return jnp.array(vec_model.vectorize(circuit), jnp.float64)\n",
      "100%|██████████| 8/8 [00:00<00:00, 14.71it/s]\n",
      "100%|██████████| 7/7 [00:00<00:00, 44.74it/s]\n",
      "100%|██████████| 8/8 [00:00<00:00, 81.76it/s]\n",
      "101it [00:00, 624815.20it/s]\n",
      "100%|██████████| 4/4 [00:00<00:00, 162.72it/s]\n",
      "100%|██████████| 4/4 [00:00<00:00, 264.03it/s]\n",
      "100%|██████████| 4/4 [00:00<00:00, 96.56it/s]\n"
     ]
    }
   ],
   "source": [
    "# train a fidelity model\n",
    "ground_truth_fidelities = map(lambda circuit: simulator.obtain_circuit_fidelity(circuit)[0], circuits, show_progress=False, multi_process=True)\n",
    "\n",
    "fidelity_model = FidelityModel(vec_model)\n",
    "fidelity_model.train((circuits, ground_truth_fidelities))"
   ]
  },
  {
   "cell_type": "code",
   "execution_count": 4,
   "metadata": {},
   "outputs": [
    {
     "name": "stderr",
     "output_type": "stream",
     "text": [
      "/Users/siwei/miniforge3/envs/janusq/lib/python3.11/site-packages/numpy/linalg/linalg.py:2180: RuntimeWarning: divide by zero encountered in det\n",
      "  r = _umath_linalg.det(a, signature=signature)\n",
      "/Users/siwei/miniforge3/envs/janusq/lib/python3.11/site-packages/numpy/linalg/linalg.py:2180: RuntimeWarning: invalid value encountered in det\n",
      "  r = _umath_linalg.det(a, signature=signature)\n"
     ]
    }
   ],
   "source": [
    "# generate a set of benchmarking circuits\n",
    "\n",
    "from data_objects.algorithms import get_algs\n",
    "from optimizations.scheduling.scheduling_ct import Scheduler\n",
    "from optimizations.mapping.mapping_ct import Mapper\n",
    "algs = ['qft', 'hs', 'ising', 'qknn', 'qsvm', 'vqc', 'ghz', 'grover']\n",
    "benchmarking_circuits = get_algs(n_qubits, backend, algs)"
   ]
  },
  {
   "cell_type": "markdown",
   "metadata": {},
   "source": [
    "We evaluate the mapping guided by JanusQ-CT model with the qiskit optimizer with level = 3."
   ]
  },
  {
   "cell_type": "code",
   "execution_count": 5,
   "metadata": {},
   "outputs": [
    {
     "name": "stdout",
     "output_type": "stream",
     "text": [
      "before mapping:  0.8364627955799706 after mapping:  0.8356053797253464\n",
      "before mapping:  0.6058976942234527 after mapping:  0.6799190729039355\n",
      "before mapping:  0.7043014008545286 after mapping:  0.6527958454150182\n",
      "before mapping:  0.5647614447212831 after mapping:  0.6087176818004314\n",
      "before mapping:  0.6510045829062779 after mapping:  0.7730088863301003\n",
      "before mapping:  0.6846964248887483 after mapping:  0.6657805599775171\n",
      "before mapping:  0.11030407292059455 after mapping:  0.04339378330678254\n",
      "before mapping:  0.18980259029462238 after mapping:  0.2404774411642058\n"
     ]
    }
   ],
   "source": [
    "mapper = Mapper(fidelity_model)\n",
    "mapping_backend = LinearBackend(n_qubits)\n",
    "\n",
    "baseline_fidelities, opt_fidelities = [], []\n",
    "for circuit in benchmarking_circuits:\n",
    "    baseline_fidelities.append(simulator.obtain_circuit_fidelity(circuit)[0])\n",
    "    \n",
    "    opt_circuit = mapper.run(circuit, mapping_backend, return_candidates=False)\n",
    "    opt_fidelity = simulator.obtain_circuit_fidelity(opt_circuit)[0]\n",
    "    \n",
    "    opt_fidelities.append(opt_fidelity)\n",
    "    print('before mapping: ', baseline_fidelities[-1], 'after mapping: ', opt_fidelities[-1])"
   ]
  },
  {
   "cell_type": "code",
   "execution_count": 6,
   "metadata": {},
   "outputs": [
    {
     "data": {
      "text/plain": [
       "<matplotlib.legend.Legend at 0x2a50f3cd0>"
      ]
     },
     "execution_count": 6,
     "metadata": {},
     "output_type": "execute_result"
    },
    {
     "data": {
      "image/png": "[encoded data removed]",
      "text/plain": [
       "<Figure size 1500x500 with 1 Axes>"
      ]
     },
     "metadata": {},
     "output_type": "display_data"
    }
   ],
   "source": [
    "import matplotlib.pyplot as plt\n",
    "import numpy as np\n",
    "fig, axes = plt.subplots(figsize=(15, 5))  \n",
    "x = [i for i in range(len(benchmarking_circuits))]\n",
    "x = np.array(x) * 20\n",
    "# axes.bar(x,reals_baseline,width =2,label='reals_baseline')\n",
    "\n",
    "\n",
    "baseline_fidelities = np.array(baseline_fidelities)\n",
    "opt_fidelities = np.array(opt_fidelities)\n",
    "axes.bar(x+4,baseline_fidelities,width =2,label='baseline')\n",
    "axes.bar(x+6,opt_fidelities,width =2,label='janusq mapping')\n",
    "\n",
    "axes.set_xticks(x)\n",
    "axes.set_xticklabels(algs)\n",
    "fig.legend()"
   ]
  },
  {
   "cell_type": "markdown",
   "metadata": {},
   "source": [
    "## Scheduling\n",
    "\n",
    "We can also use Janus-CT to guide the scheduling."
   ]
  },
  {
   "cell_type": "code",
   "execution_count": 7,
   "metadata": {},
   "outputs": [
    {
     "name": "stdout",
     "output_type": "stream",
     "text": [
      "before scheduling:  0.8113270770990877 after scheduling:  0.5776407196266011\n",
      "before scheduling:  0.7024512709407464 after scheduling:  0.4136036810360638\n",
      "before scheduling:  0.658128319679772 after scheduling:  0.5133597001714554\n",
      "before scheduling:  0.6263252620157277 after scheduling:  0.42821265119446483\n",
      "before scheduling:  0.7802371280646782 after scheduling:  0.7750753007042062\n",
      "before scheduling:  0.6863337084734895 after scheduling:  0.7437670110186058\n",
      "before scheduling:  0.06449233961620963 after scheduling:  0.14631399092270087\n",
      "before scheduling:  0.24162381701969524 after scheduling:  0.7564946475636314\n"
     ]
    }
   ],
   "source": [
    "scheduler = Scheduler(fidelity_model)\n",
    "mapping_backend = LinearBackend(n_qubits)\n",
    "\n",
    "baseline_fidelities, opt_fidelities = [], []\n",
    "for circuit in benchmarking_circuits:\n",
    "    baseline_fidelities.append(simulator.obtain_circuit_fidelity(circuit)[0])\n",
    "    \n",
    "    opt_circuit = scheduler.run(circuit, timeout=60)\n",
    "    opt_fidelity = simulator.obtain_circuit_fidelity(opt_circuit)[0]\n",
    "    \n",
    "    opt_fidelities.append(opt_fidelity)\n",
    "    print('before scheduling: ', baseline_fidelities[-1], 'after scheduling: ', opt_fidelities[-1])"
   ]
  },
  {
   "cell_type": "code",
   "execution_count": 8,
   "metadata": {},
   "outputs": [
    {
     "data": {
      "text/plain": [
       "<matplotlib.legend.Legend at 0x29fd40850>"
      ]
     },
     "execution_count": 8,
     "metadata": {},
     "output_type": "execute_result"
    },
    {
     "data": {
      "image/png": "[encoded data removed]",
      "text/plain": [
       "<Figure size 1500x500 with 1 Axes>"
      ]
     },
     "metadata": {},
     "output_type": "display_data"
    }
   ],
   "source": [
    "import matplotlib.pyplot as plt\n",
    "import numpy as np\n",
    "fig, axes = plt.subplots(figsize=(15, 5))\n",
    "x = [i for i in range(len(benchmarking_circuits))]\n",
    "x = np.array(x) * 20\n",
    "# axes.bar(x,reals_baseline,width =2,label='reals_baseline')\n",
    "\n",
    "\n",
    "baseline_fidelities = np.array(baseline_fidelities)\n",
    "opt_fidelities = np.array(opt_fidelities)\n",
    "axes.bar(x+4,baseline_fidelities,width =2,label='baseline')\n",
    "axes.bar(x+6,opt_fidelities,width =2,label='janusq scheduling')\n",
    "\n",
    "axes.set_xticks(x)\n",
    "axes.set_xticklabels(algs)\n",
    "fig.legend()"
   ]
  }
 ],
 "metadata": {
  "kernelspec": {
   "display_name": "janusq",
   "language": "python",
   "name": "python3"
  },
  "language_info": {
   "codemirror_mode": {
    "name": "ipython",
    "version": 3
   },
   "file_extension": ".py",
   "mimetype": "text/x-python",
   "name": "python",
   "nbconvert_exporter": "python",
   "pygments_lexer": "ipython3",
   "version": "3.11.7"
  }
 },
 "nbformat": 4,
 "nbformat_minor": 2
}
